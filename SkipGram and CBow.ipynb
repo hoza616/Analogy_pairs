{
 "cells": [
  {
   "cell_type": "markdown",
   "id": "d9452977",
   "metadata": {},
   "source": [
    "## Importing Libraries"
   ]
  },
  {
   "cell_type": "code",
   "execution_count": 18,
   "id": "0031307b",
   "metadata": {},
   "outputs": [],
   "source": [
    "import nltk\n",
    "from nltk.corpus import gutenberg"
   ]
  },
  {
   "cell_type": "code",
   "execution_count": 19,
   "id": "33071dcd",
   "metadata": {},
   "outputs": [],
   "source": [
    "# nltk.download('gutenberg')    for first time installation"
   ]
  },
  {
   "cell_type": "code",
   "execution_count": 27,
   "id": "858950ae",
   "metadata": {},
   "outputs": [
    {
     "name": "stdout",
     "output_type": "stream",
     "text": [
      "['austen-emma.txt', 'austen-persuasion.txt', 'austen-sense.txt', 'bible-kjv.txt', 'blake-poems.txt', 'bryant-stories.txt', 'burgess-busterbrown.txt', 'carroll-alice.txt', 'chesterton-ball.txt', 'chesterton-brown.txt', 'chesterton-thursday.txt', 'edgeworth-parents.txt', 'melville-moby_dick.txt', 'milton-paradise.txt', 'shakespeare-caesar.txt', 'shakespeare-hamlet.txt', 'shakespeare-macbeth.txt', 'whitman-leaves.txt']\n"
     ]
    }
   ],
   "source": [
    "files = gutenberg.fileids()\n",
    "print(files)"
   ]
  },
  {
   "cell_type": "code",
   "execution_count": 21,
   "id": "d01e1d93",
   "metadata": {},
   "outputs": [
    {
     "data": {
      "text/plain": [
       "192427"
      ]
     },
     "execution_count": 21,
     "metadata": {},
     "output_type": "execute_result"
    }
   ],
   "source": [
    "emma = nltk.corpus.gutenberg.words('austen-emma.txt')\n",
    "len(emma)"
   ]
  },
  {
   "cell_type": "code",
   "execution_count": 34,
   "id": "8962e896",
   "metadata": {},
   "outputs": [
    {
     "name": "stdout",
     "output_type": "stream",
     "text": [
      "austen-emma.txt\n",
      "Number of characters: 887071\n",
      "Number of words: 192427\n",
      "Number of sentences: 7752\n",
      "Number of vocab: 7344\n",
      "5 25 26\n",
      "austen-persuasion.txt\n",
      "Number of characters: 466292\n",
      "Number of words: 98171\n",
      "Number of sentences: 3747\n",
      "Number of vocab: 5835\n",
      "5 26 17\n",
      "austen-sense.txt\n",
      "Number of characters: 673022\n",
      "Number of words: 141576\n",
      "Number of sentences: 4999\n",
      "Number of vocab: 6403\n",
      "5 28 22\n",
      "bible-kjv.txt\n",
      "Number of characters: 4332554\n",
      "Number of words: 1010654\n",
      "Number of sentences: 30103\n",
      "Number of vocab: 12767\n",
      "4 34 79\n",
      "blake-poems.txt\n",
      "Number of characters: 38153\n",
      "Number of words: 8354\n",
      "Number of sentences: 438\n",
      "Number of vocab: 1535\n",
      "5 19 5\n",
      "bryant-stories.txt\n",
      "Number of characters: 249439\n",
      "Number of words: 55563\n",
      "Number of sentences: 2863\n",
      "Number of vocab: 3940\n",
      "4 19 14\n",
      "burgess-busterbrown.txt\n",
      "Number of characters: 84663\n",
      "Number of words: 18963\n",
      "Number of sentences: 1054\n",
      "Number of vocab: 1559\n",
      "4 18 12\n",
      "carroll-alice.txt\n",
      "Number of characters: 144395\n",
      "Number of words: 34110\n",
      "Number of sentences: 1703\n",
      "Number of vocab: 2636\n",
      "4 20 13\n",
      "chesterton-ball.txt\n",
      "Number of characters: 457450\n",
      "Number of words: 96996\n",
      "Number of sentences: 4779\n",
      "Number of vocab: 8335\n",
      "5 20 12\n",
      "chesterton-brown.txt\n",
      "Number of characters: 406629\n",
      "Number of words: 86063\n",
      "Number of sentences: 3806\n",
      "Number of vocab: 7794\n",
      "5 23 11\n",
      "chesterton-thursday.txt\n",
      "Number of characters: 320525\n",
      "Number of words: 69213\n",
      "Number of sentences: 3742\n",
      "Number of vocab: 6349\n",
      "5 18 11\n",
      "edgeworth-parents.txt\n",
      "Number of characters: 935158\n",
      "Number of words: 210663\n",
      "Number of sentences: 10230\n",
      "Number of vocab: 8447\n",
      "4 21 25\n",
      "melville-moby_dick.txt\n",
      "Number of characters: 1242990\n",
      "Number of words: 260819\n",
      "Number of sentences: 10059\n",
      "Number of vocab: 17231\n",
      "5 26 15\n",
      "milton-paradise.txt\n",
      "Number of characters: 468220\n",
      "Number of words: 96825\n",
      "Number of sentences: 1851\n",
      "Number of vocab: 9021\n",
      "5 52 11\n",
      "shakespeare-caesar.txt\n",
      "Number of characters: 112310\n",
      "Number of words: 25833\n",
      "Number of sentences: 2163\n",
      "Number of vocab: 3032\n",
      "4 12 9\n",
      "shakespeare-hamlet.txt\n",
      "Number of characters: 162881\n",
      "Number of words: 37360\n",
      "Number of sentences: 3106\n",
      "Number of vocab: 4716\n",
      "4 12 8\n",
      "shakespeare-macbeth.txt\n",
      "Number of characters: 100351\n",
      "Number of words: 23140\n",
      "Number of sentences: 1907\n",
      "Number of vocab: 3464\n",
      "4 12 7\n",
      "whitman-leaves.txt\n",
      "Number of characters: 711215\n",
      "Number of words: 154883\n",
      "Number of sentences: 4250\n",
      "Number of vocab: 12452\n",
      "5 36 12\n"
     ]
    }
   ],
   "source": [
    "for fileid in gutenberg.fileids():\n",
    "    print(fileid)\n",
    "    num_chars = len(gutenberg.raw(fileid)) \n",
    "    num_words = len(gutenberg.words(fileid))\n",
    "    num_sents = len(gutenberg.sents(fileid))\n",
    "    num_vocab = len(set(w.lower() for w in gutenberg.words(fileid)))   # number of unique words\n",
    "    print('Number of characters:', num_chars)\n",
    "    print('Number of words:', num_words)\n",
    "    print('Number of sentences:', num_sents)\n",
    "    print('Number of vocab:', num_vocab)\n",
    "    print(round(num_chars/num_words), round(num_words/num_sents), round(num_words/num_vocab))"
   ]
  },
  {
   "cell_type": "code",
   "execution_count": 43,
   "id": "9534d7b3",
   "metadata": {},
   "outputs": [
    {
     "data": {
      "text/plain": [
       "['Where', 'is', 'thy', 'Leather', 'Apron', ',', 'and', 'thy', 'Rule', '?']"
      ]
     },
     "execution_count": 43,
     "metadata": {},
     "output_type": "execute_result"
    }
   ],
   "source": [
    "macbeth_sentences = gutenberg.sents('shakespeare-caesar.txt')\n",
    "macbeth_sentences[11]"
   ]
  }
 ],
 "metadata": {
  "kernelspec": {
   "display_name": "Python 3",
   "language": "python",
   "name": "python3"
  },
  "language_info": {
   "codemirror_mode": {
    "name": "ipython",
    "version": 3
   },
   "file_extension": ".py",
   "mimetype": "text/x-python",
   "name": "python",
   "nbconvert_exporter": "python",
   "pygments_lexer": "ipython3",
   "version": "3.8.8"
  }
 },
 "nbformat": 4,
 "nbformat_minor": 5
}
